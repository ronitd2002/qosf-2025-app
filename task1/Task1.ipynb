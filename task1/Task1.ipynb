{
 "cells": [
  {
   "cell_type": "code",
   "execution_count": 1,
   "id": "16c5e19b-6f55-4c19-97bd-49e4701f1d60",
   "metadata": {},
   "outputs": [],
   "source": [
    "# Task 1: learn U3 parameters so a parameterized ansatz equals Toffoli\n",
    "import pennylane as qml\n",
    "from pennylane import numpy as np\n",
    "np.set_printoptions(precision=6, suppress=True)"
   ]
  },
  {
   "cell_type": "code",
   "execution_count": 9,
   "id": "e3b8221b-644d-4a6d-a1cd-7a911a1da89d",
   "metadata": {},
   "outputs": [],
   "source": [
    "# --- Build Toffoli target using pennylane.numpy for autodiff compatibility ---\n",
    "def toffoli_matrix():\n",
    "    T = np.eye(8, dtype=complex)\n",
    "    # swap |110> (6) <-> |111> (7)\n",
    "    T = T.copy()\n",
    "    T[6,6] = 0.0\n",
    "    T[7,7] = 0.0\n",
    "    T[6,7] = 1.0\n",
    "    T[7,6] = 1.0\n",
    "    return np.array(T, dtype=complex)  # this is pennylane.numpy array\n",
    "\n",
    "TOFF = toffoli_matrix()  # shape (8,8), dtype=complex"
   ]
  },
  {
   "cell_type": "code",
   "execution_count": 10,
   "id": "d250f7f0-2de0-4e26-84fa-17dd626af1a9",
   "metadata": {},
   "outputs": [],
   "source": [
    "# --- U3 helper (RZ RY RZ) ---\n",
    "def U3(params, wires):\n",
    "    theta, phi, lam = params\n",
    "    qml.RZ(phi, wires=wires)\n",
    "    qml.RY(theta, wires=wires)\n",
    "    qml.RZ(lam, wires=wires)"
   ]
  },
  {
   "cell_type": "code",
   "execution_count": 11,
   "id": "709a479e-e02c-4823-9f9b-c9f2185ffdd6",
   "metadata": {},
   "outputs": [],
   "source": [
    "# ansatz topology (replaceable with the exact PDF topology)\n",
    "def ansatz_circuit(params):\n",
    "    # params shape: (L, 3, 3) -> L layers, 3 qubits, 3 params per U3\n",
    "    for layer in range(params.shape[0]):\n",
    "        for w in range(3):\n",
    "            U3(params[layer, w], wires=w)\n",
    "        # simple entangling pattern (adjust if you want)\n",
    "        qml.CNOT(wires=[0,2])\n",
    "        qml.CNOT(wires=[1,2])"
   ]
  },
  {
   "cell_type": "code",
   "execution_count": 12,
   "id": "7ddba98f-20e6-4dd5-bffc-46055c901944",
   "metadata": {},
   "outputs": [],
   "source": [
    "# device and QNode returning state; use adjoint diff for correctness+speed\n",
    "dev = qml.device(\"default.qubit\", wires=3)\n",
    "\n",
    "@qml.qnode(dev, diff_method=\"adjoint\", interface=\"autograd\")\n",
    "def ansatz_state(params, input_index):\n",
    "    # prepare computational basis state |input_index> on wires [0,1,2]\n",
    "    for i in range(3):\n",
    "        if (input_index >> (2 - i)) & 1:  # msb is wire 0\n",
    "            qml.PauliX(wires=i)\n",
    "    ansatz_circuit(params)\n",
    "    return qml.state()"
   ]
  },
  {
   "cell_type": "code",
   "execution_count": 16,
   "id": "8d343a08-2c4b-4164-a911-2f6be22ee8fa",
   "metadata": {},
   "outputs": [],
   "source": [
    "# cost: 1 - average fidelity across basis states, compute inner product with qml.math.vdot\n",
    "def cost(params):\n",
    "    total = 0.0\n",
    "    for i in range(8):\n",
    "        sv = ansatz_state(params, i)         # returns pennylane numpy complex vector\n",
    "        target = TOFF[:, i]                  # column i of target\n",
    "        # Use qml.math.vdot for autodiff-friendly inner product:\n",
    "        ov = qml.math.vdot(target, sv)       # complex scalar (autodiff-friendly)\n",
    "        fid = qml.math.real(qml.math.conj(ov) * ov) # squared overlap\n",
    "        total = total + fid\n",
    "    avg_fid = total / 8.0\n",
    "    return 1.0 - avg_fid"
   ]
  },
  {
   "cell_type": "code",
   "execution_count": 17,
   "id": "90cca56c-9c51-43df-83b0-c92f84074f71",
   "metadata": {},
   "outputs": [
    {
     "name": "stdout",
     "output_type": "stream",
     "text": [
      "Starting optimization...\n"
     ]
    },
    {
     "name": "stderr",
     "output_type": "stream",
     "text": [
      "C:\\Users\\SUJAN\\.conda\\envs\\main\\Lib\\site-packages\\autograd\\numpy\\numpy_wrapper.py:187: ComplexWarning: Casting complex values to real discards the imaginary part\n",
      "  return A.astype(dtype, order, casting, subok, copy)\n"
     ]
    },
    {
     "name": "stdout",
     "output_type": "stream",
     "text": [
      "Step 000 cost=2.594304e-01\n",
      "Step 020 cost=5.509694e-01\n",
      "Step 040 cost=3.173524e-01\n",
      "Step 060 cost=4.399408e-01\n",
      "Step 080 cost=4.759766e-01\n",
      "Step 100 cost=4.270636e-01\n",
      "Step 120 cost=4.142226e-01\n",
      "Step 140 cost=4.794003e-01\n",
      "Step 160 cost=4.466539e-01\n",
      "Step 180 cost=4.707141e-01\n",
      "Step 199 cost=4.513481e-01\n"
     ]
    }
   ],
   "source": [
    "# --- Optimization ---\n",
    "def make_init_params(L):\n",
    "    return np.random.randn(L, 3, 3) * 0.1\n",
    "\n",
    "L = 2\n",
    "params = make_init_params(L)\n",
    "opt = qml.AdamOptimizer(stepsize=0.1)\n",
    "\n",
    "print(\"Starting optimization...\")\n",
    "for step in range(200):\n",
    "    params = opt.step(cost, params)\n",
    "    if step % 20 == 0 or step == 199:\n",
    "        c = cost(params)\n",
    "        print(f\"Step {step:03d} cost={c:.6e}\")\n",
    "        if c < 1e-6:\n",
    "            break"
   ]
  },
  {
   "cell_type": "code",
   "execution_count": 18,
   "id": "1fc3222f-7309-4f2e-af53-f0820c735719",
   "metadata": {},
   "outputs": [
    {
     "name": "stdout",
     "output_type": "stream",
     "text": [
      "Final cost: 0.4513481123346398\n",
      "Layer 0, wire 0, U3 params = [ 0.918676 -0.522882 -1.679788]\n",
      "Layer 0, wire 1, U3 params = [0.054735 0.580163 5.953855]\n",
      "Layer 0, wire 2, U3 params = [ 1.570781  3.147688 -0.000024]\n",
      "Layer 1, wire 0, U3 params = [ 0.68332  -1.810864  0.648251]\n",
      "Layer 1, wire 1, U3 params = [-0.1474    5.969653  3.383275]\n",
      "Layer 1, wire 2, U3 params = [ 1.570692 -0.000035 -3.078942]\n"
     ]
    }
   ],
   "source": [
    "print(\"Final cost:\", cost(params))\n",
    "# print found parameters\n",
    "for l in range(L):\n",
    "    for q in range(3):\n",
    "        print(f\"Layer {l}, wire {q}, U3 params = {params[l,q]}\")\n"
   ]
  },
  {
   "cell_type": "code",
   "execution_count": null,
   "id": "8128aac5-4832-4456-91b6-c3a819520fee",
   "metadata": {},
   "outputs": [],
   "source": []
  }
 ],
 "metadata": {
  "kernelspec": {
   "display_name": "Python 3 (ipykernel)",
   "language": "python",
   "name": "python3"
  },
  "language_info": {
   "codemirror_mode": {
    "name": "ipython",
    "version": 3
   },
   "file_extension": ".py",
   "mimetype": "text/x-python",
   "name": "python",
   "nbconvert_exporter": "python",
   "pygments_lexer": "ipython3",
   "version": "3.13.5"
  }
 },
 "nbformat": 4,
 "nbformat_minor": 5
}
