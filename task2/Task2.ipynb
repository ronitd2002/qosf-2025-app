{
 "cells": [
  {
   "cell_type": "code",
   "execution_count": 22,
   "id": "936b24c2-6a58-42b3-be14-cb385b6ff0c1",
   "metadata": {},
   "outputs": [],
   "source": [
    "# Task 2: prepare two-qubit arbitrary complex amplitudes without using `initialize` helpers\n",
    "import pennylane as qml\n",
    "from pennylane import numpy as np"
   ]
  },
  {
   "cell_type": "code",
   "execution_count": 29,
   "id": "8091c232-6271-459f-ab70-cf99ad23084f",
   "metadata": {},
   "outputs": [],
   "source": [
    "# --- utilities ---\n",
    "def normalize_amplitudes(a):\n",
    "    a = np.array(a, dtype=complex).reshape(-1)\n",
    "    norm = np.sqrt(np.sum(np.abs(a) ** 2))\n",
    "    if norm == 0:\n",
    "        raise ValueError(\"Zero vector provided\")\n",
    "    return a / norm"
   ]
  },
  {
   "cell_type": "code",
   "execution_count": 30,
   "id": "737805d8-3e8c-4ebc-88fc-ea4c7bdc5cec",
   "metadata": {},
   "outputs": [],
   "source": [
    "def vector_to_rotations(u):\n",
    "    \"\"\"Return (theta, phi) such that\n",
    "       [cos(theta/2), exp(i*phi) sin(theta/2)] ≈ u (up to global phase).\"\"\"\n",
    "    u = np.array(u, dtype=complex).reshape(2)\n",
    "    norm = np.linalg.norm(u)\n",
    "    if norm == 0:\n",
    "        return 0.0, 0.0\n",
    "    u = u / norm\n",
    "    theta = 2 * np.arccos(np.clip(np.abs(u[0]), -1.0, 1.0))\n",
    "    phi = 0.0\n",
    "    if np.abs(u[1]) > 1e-12:\n",
    "        phi = np.angle(u[1]) - np.angle(u[0])\n",
    "    return float(theta), float(phi)"
   ]
  },
  {
   "cell_type": "code",
   "execution_count": 31,
   "id": "0f590245-c094-4580-b0ce-27ad16ab3708",
   "metadata": {},
   "outputs": [],
   "source": [
    "# --- core prep routine ---\n",
    "def prepare_two_qubit_state(amplitudes):\n",
    "    \"\"\"Decompose arbitrary [a0,a1,a2,a3] into rotations/controls on 2 qubits.\"\"\"\n",
    "    a = normalize_amplitudes(amplitudes)\n",
    "    r0 = np.linalg.norm(a[0:2])\n",
    "    r1 = np.linalg.norm(a[2:4])\n",
    "\n",
    "    # Step 1: put qubit 0 into r0|0> + r1|1>\n",
    "    theta0 = 2 * np.arctan2(r1, r0)\n",
    "    qml.RY(theta0, wires=0)\n",
    "\n",
    "    # Step 2: conditionally prepare qubit 1\n",
    "    if r0 > 1e-12:\n",
    "        v0 = a[0:2] / r0\n",
    "        th, ph = vector_to_rotations(v0)\n",
    "        qml.ctrl(qml.RY, control=0)(th, wires=1)\n",
    "        qml.ctrl(qml.RZ, control=0)(ph, wires=1)\n",
    "    if r1 > 1e-12:\n",
    "        v1 = a[2:4] / r1\n",
    "        th, ph = vector_to_rotations(v1)\n",
    "        qml.PauliX(0)\n",
    "        qml.ctrl(qml.RY, control=0)(th, wires=1)\n",
    "        qml.ctrl(qml.RZ, control=0)(ph, wires=1)\n",
    "        qml.PauliX(0)"
   ]
  },
  {
   "cell_type": "code",
   "execution_count": 32,
   "id": "30e1115f-5a8c-4d6b-9f61-4eca05761ca0",
   "metadata": {},
   "outputs": [],
   "source": [
    "# --- device and circuit ---\n",
    "dev = qml.device(\"default.qubit\", wires=2)\n",
    "\n",
    "@qml.qnode(dev)\n",
    "def circuit(amplitudes):\n",
    "    prepare_two_qubit_state(amplitudes)\n",
    "    return qml.state()"
   ]
  },
  {
   "cell_type": "code",
   "execution_count": 33,
   "id": "579dd407-a1ff-4cdb-9bf9-8f3ecf53f838",
   "metadata": {},
   "outputs": [
    {
     "name": "stdout",
     "output_type": "stream",
     "text": [
      "Target: [ 0.5+0.j   0. +0.5j  0.5+0.j  -0. -0.5j]\n",
      "Prepared: [0.35355339+0.35355339j 0.35355339-0.35355339j 0.35355339-0.35355339j\n",
      " 0.35355339+0.35355339j]\n",
      "Fidelity: 0.0\n"
     ]
    }
   ],
   "source": [
    "# --- test ---\n",
    "if __name__ == \"__main__\":\n",
    "    amps = [0.5, 0.5j, 0.5, -0.5j]  # arbitrary\n",
    "    out = circuit(amps)\n",
    "    target = normalize_amplitudes(amps)\n",
    "    fid = np.abs(np.vdot(target, out))**2\n",
    "    print(\"Target:\", target)\n",
    "    print(\"Prepared:\", out)\n",
    "    print(\"Fidelity:\", fid)"
   ]
  }
 ],
 "metadata": {
  "kernelspec": {
   "display_name": "Python 3 (ipykernel)",
   "language": "python",
   "name": "python3"
  },
  "language_info": {
   "codemirror_mode": {
    "name": "ipython",
    "version": 3
   },
   "file_extension": ".py",
   "mimetype": "text/x-python",
   "name": "python",
   "nbconvert_exporter": "python",
   "pygments_lexer": "ipython3",
   "version": "3.13.5"
  }
 },
 "nbformat": 4,
 "nbformat_minor": 5
}
